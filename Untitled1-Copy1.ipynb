{
 "cells": [
  {
   "cell_type": "code",
   "execution_count": 1,
   "id": "7de13061",
   "metadata": {},
   "outputs": [],
   "source": [
    "from PIL import Image\n",
    "import numpy as np\n",
    "\n",
    "def embed_barcode(image_path, barcode_path, output_path):\n",
    "    # Load the image and the barcode\n",
    "    image = Image.open(image_path)\n",
    "    barcode = Image.open(barcode_path).convert(\"1\")  # Convert barcode to binary (black & white)\n",
    "\n",
    "    # Ensure the barcode fits within the image\n",
    "    if barcode.size != image.size:\n",
    "        barcode = barcode.resize(image.size)\n",
    "        \n",
    "    # Convert images to numpy arrays\n",
    "    image_array = np.array(image)\n",
    "    barcode_array = np.array(barcode)\n",
    "\n",
    "    # Embed the barcode within the image (least significant bit method)\n",
    "    for x in range(barcode.width):\n",
    "        for y in range(barcode.height):\n",
    "            pixel = image_array[y, x]\n",
    "            if barcode_array[y, x] == 0:  # If barcode pixel is black\n",
    "                image_array[y, x] = pixel & ~1  # Set LSB to 0\n",
    "            else:  # If barcode pixel is white\n",
    "                image_array[y, x] = pixel | 1  # Set LSB to 1\n",
    "\n",
    "    # Save the modified image\n",
    "    output_image = Image.fromarray(image_array)\n",
    "    output_image.save(output_path)\n",
    "    print(f'Barcode embedded and saved to {output_path}')\n",
    "\n",
    "# Usage\n",
    "embed_barcode(r'C:\\Users\\kusal\\Downloads\\plywood pic.jpg',r'C:\\Users\\kusal\\Downloads\\upc-barcode-example-e1512629842402 piy.jpg','output_image.png')\n"
   ]
  },
  {
   "cell_type": "code",
   "execution_count": 2,
   "id": "0c22ce54",
   "metadata": {},
   "outputs": [],
   "source": [
    "def extract_barcode(image_path, output_path, barcode_size):\n",
    "    image = Image.open(image_path)\n",
    "    image_array = np.array(image)\n",
    "    barcode_array = np.zeros((barcode_size[1], barcode_size[0]), dtype=np.uint8)\n",
    "\n",
    "    for x in range(barcode_size[0]):\n",
    "        for y in range(barcode_size[1]):\n",
    "            pixel = image_array[y, x]\n",
    "            barcode_array[y, x] = 255 if pixel & 1 else 0\n",
    "\n",
    "    output_barcode = Image.fromarray(barcode_array)\n",
    "    output_barcode.save(output_path)\n",
    "    print(f'Barcode extracted and saved to {output_path}')\n",
    "\n",
    "# Usage\n",
    "extract_barcode('output_image.png', r'C:\\Users\\kusal\\Downloads\\upc-barcode-example-e1512629842402 piy.jpg', (300, 100))\n"
   ]
  },
  {
   "cell_type": "code",
   "execution_count": null,
   "id": "367e3e81",
   "metadata": {},
   "outputs": [],
   "source": []
  }
 ],
 "metadata": {
  "kernelspec": {
   "display_name": "Python 3 (ipykernel)",
   "language": "python",
   "name": "python3"
  },
  "language_info": {
   "codemirror_mode": {
    "name": "ipython",
    "version": 3
   },
   "file_extension": ".py",
   "mimetype": "text/x-python",
   "name": "python",
   "nbconvert_exporter": "python",
   "pygments_lexer": "ipython3",
   "version": "3.11.3"
  }
 },
 "nbformat": 4,
 "nbformat_minor": 5
}
